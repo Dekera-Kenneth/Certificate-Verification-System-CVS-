{
  "nbformat": 4,
  "nbformat_minor": 0,
  "metadata": {
    "colab": {
      "name": "TestingColab.ipynb",
      "provenance": [],
      "authorship_tag": "ABX9TyPVhE3myuTo5vv9qlsZAgh1",
      "include_colab_link": true
    },
    "kernelspec": {
      "name": "python3",
      "display_name": "Python 3"
    }
  },
  "cells": [
    {
      "cell_type": "markdown",
      "metadata": {
        "id": "view-in-github",
        "colab_type": "text"
      },
      "source": [
        "<a href=\"https://colab.research.google.com/github/Dekera-Kenneth/certificate-verification-system/blob/develop/TestingColab.ipynb\" target=\"_parent\"><img src=\"https://colab.research.google.com/assets/colab-badge.svg\" alt=\"Open In Colab\"/></a>"
      ]
    },
    {
      "cell_type": "code",
      "metadata": {
        "colab": {
          "base_uri": "https://localhost:8080/"
        },
        "id": "P7o8ndqA0B6w",
        "outputId": "40b30c72-beff-49c6-ae8c-620a15e157ca"
      },
      "source": [
        "import time\r\n",
        "print(time.ctime())"
      ],
      "execution_count": 8,
      "outputs": [
        {
          "output_type": "stream",
          "text": [
            "Mon Dec 28 15:11:27 2020\n"
          ],
          "name": "stdout"
        }
      ]
    },
    {
      "cell_type": "code",
      "metadata": {
        "colab": {
          "base_uri": "https://localhost:8080/"
        },
        "id": "cZVhgJ9A2Oyl",
        "outputId": "d579d3fc-a59e-47e6-d52a-742265b683f3"
      },
      "source": [
        "time.sleep(5)\r\n",
        "print (time.ctime())"
      ],
      "execution_count": 9,
      "outputs": [
        {
          "output_type": "stream",
          "text": [
            "Mon Dec 28 15:11:32 2020\n"
          ],
          "name": "stdout"
        }
      ]
    },
    {
      "cell_type": "markdown",
      "metadata": {
        "id": "HGN0CPzw66Ns"
      },
      "source": [
        "This is **bold**.\r\n",
        "This is *italic*.\r\n",
        "This is ~strikethrough~."
      ]
    },
    {
      "cell_type": "markdown",
      "metadata": {
        "id": "srE-S4KO7Kqo"
      },
      "source": [
        "$\\sqrt{3x-1}+(1+x)^2$"
      ]
    },
    {
      "cell_type": "markdown",
      "metadata": {
        "id": "aLEfcpCu7i24"
      },
      "source": [
        "$e^x=\\sum_{i=0}^\\infty \\frac{1}{i!}x^i$"
      ]
    }
  ]
}